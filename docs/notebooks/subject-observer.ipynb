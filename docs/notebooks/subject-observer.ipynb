{
 "cells": [
  {
   "cell_type": "markdown",
   "metadata": {},
   "source": [
    "# Using the subject/observer pattern"
   ]
  },
  {
   "cell_type": "code",
   "execution_count": 13,
   "metadata": {},
   "outputs": [],
   "source": [
    "import sys\n",
    "sys.path.append('../..')"
   ]
  },
  {
   "cell_type": "markdown",
   "metadata": {},
   "source": [
    "The subject/observer pattern requires in this library to import following (as needed):"
   ]
  },
  {
   "cell_type": "code",
   "execution_count": 14,
   "metadata": {},
   "outputs": [],
   "source": [
    "from responsive.subject import Subject\n",
    "from responsive.observer import DefaultObserver"
   ]
  },
  {
   "cell_type": "markdown",
   "metadata": {},
   "source": [
    "Testing the subject/observer feature. The notification allows specifying no parameters, positional parameter or keyword arguments or both. It is in the responsiblity of the concrete subject to provide sufficient information to the observers. We are using a default server implementation which is - to be clear - mainly for testing and demonstration purpose."
   ]
  },
  {
   "cell_type": "code",
   "execution_count": 15,
   "metadata": {},
   "outputs": [
    {
     "name": "stdout",
     "output_type": "stream",
     "text": [
      "subject has notified with ('just a test',) and {'reason': 'test'}\n"
     ]
    }
   ],
   "source": [
    "observer = DefaultObserver()\n",
    "subject = Subject()\n",
    "subject.add_observer(observer)\n",
    "subject.notify('just a test', reason=\"test\")\n",
    "\n",
    "for subject, args, kwargs in observer:\n",
    "    print(f\"subject has notified with {args} and {kwargs}\")"
   ]
  },
  {
   "cell_type": "markdown",
   "metadata": {},
   "source": [
    "Now we change the **interest** of the observer and we register for the concrete interest."
   ]
  },
  {
   "cell_type": "code",
   "execution_count": 16,
   "metadata": {},
   "outputs": [
    {
     "name": "stdout",
     "output_type": "stream",
     "text": [
      "[]\n",
      "[{'reason': 'test2', 'message': \"it's another test\"}]\n"
     ]
    }
   ],
   "source": [
    "observer.set_interests({\"reason\": lambda value: value == \"test2\"})\n",
    "observer.clear()\n",
    "\n",
    "subject.notify(reason=\"test1\", message=\"it's a test\")\n",
    "print(list(kwargs for _, _, kwargs in observer))\n",
    "subject.notify(reason=\"test2\", message=\"it's another test\")\n",
    "print(list(kwargs for _, _, kwargs in observer))"
   ]
  },
  {
   "cell_type": "markdown",
   "metadata": {},
   "source": [
    "As you can see the first ouput is an empty list since that interest does not match the value for **reason** (see lambda function). Another possibility might be that the attribute that you are interested in was not part of the notification. The final output provides you an update since name **and** value did match.\n",
    "\n",
    "What is this for? Consider a book (converted into responsible data). You could develop a text widget as observer that does register once for the title and once for the name of the author. Each time you change the data the widgets would be updated. The first example at the beginning was updated on any change which is also a valid usecase but not the only one."
   ]
  }
 ],
 "metadata": {
  "interpreter": {
   "hash": "98590ff4fe04c8543246b2a01debd3de3c5ca9b666f43f1fa87d5110c692004c"
  },
  "kernelspec": {
   "display_name": "Python 3.10.1 64-bit",
   "language": "python",
   "name": "python3"
  },
  "language_info": {
   "codemirror_mode": {
    "name": "ipython",
    "version": 3
   },
   "file_extension": ".py",
   "mimetype": "text/x-python",
   "name": "python",
   "nbconvert_exporter": "python",
   "pygments_lexer": "ipython3",
   "version": "3.10.1"
  },
  "orig_nbformat": 4
 },
 "nbformat": 4,
 "nbformat_minor": 2
}
