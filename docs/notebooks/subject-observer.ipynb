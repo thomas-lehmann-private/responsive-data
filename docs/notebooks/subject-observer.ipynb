{
 "cells": [
  {
   "cell_type": "markdown",
   "metadata": {},
   "source": [
    "# Using the subject/observer pattern"
   ]
  },
  {
   "cell_type": "code",
   "execution_count": 11,
   "metadata": {},
   "outputs": [],
   "source": [
    "import sys\n",
    "sys.path.append('../..')"
   ]
  },
  {
   "cell_type": "markdown",
   "metadata": {},
   "source": [
    "The subject/observer pattern requires in this library to import following (as needed):"
   ]
  },
  {
   "cell_type": "code",
   "execution_count": 12,
   "metadata": {},
   "outputs": [],
   "source": [
    "from responsive.subject import Subject\n",
    "from responsive.observer import Observer"
   ]
  },
  {
   "cell_type": "markdown",
   "metadata": {},
   "source": [
    "Now it is required to create an Observer class:"
   ]
  },
  {
   "cell_type": "code",
   "execution_count": 13,
   "metadata": {},
   "outputs": [],
   "source": [
    "from typing import Any\n",
    "\n",
    "\n",
    "class DefaultObserver(Observer):\n",
    "    \"\"\" A simple observer class. \"\"\"\n",
    "\n",
    "    def __init__(self):\n",
    "        \"\"\" Initializing empty list of reveived updates. \"\"\"\n",
    "        super().__init__()\n",
    "        self.__updates = []\n",
    "\n",
    "    def update(self, subject: Subject, *args: Any, **kwargs: Any) -> None:\n",
    "        \"\"\" Called when the subject has been changed. \"\"\"\n",
    "        self.__updates.append((subject, args, kwargs))\n",
    "\n",
    "    def __iter__(self):\n",
    "        \"\"\" Allows iterating over the updates of this observer. \"\"\"\n",
    "        return iter(self.__updates)\n",
    "\n",
    "    def clear(self):\n",
    "        \"\"\" Delete all recently updated. \"\"\"\n",
    "        self.__updates.clear()"
   ]
  },
  {
   "cell_type": "markdown",
   "metadata": {},
   "source": [
    "Testing the subject/observer feature. The notification allows specifying no parameters, positional parameter or keyword arguments or both. It is in the responsiblity of the concrete subject to provide sufficient information to the observers."
   ]
  },
  {
   "cell_type": "code",
   "execution_count": 14,
   "metadata": {},
   "outputs": [
    {
     "name": "stdout",
     "output_type": "stream",
     "text": [
      "<responsive.subject.Subject object at 0x111c979a0> has notified with ('just a test',) and {'reason': 'test'}\n"
     ]
    }
   ],
   "source": [
    "observer = DefaultObserver()\n",
    "subject = Subject()\n",
    "subject.add_observer(observer)\n",
    "subject.notify('just a test', reason='test')\n",
    "\n",
    "for subject, args, kwargs in observer:\n",
    "    print(f\"{subject} has notified with {args} and {kwargs}\")"
   ]
  }
 ],
 "metadata": {
  "interpreter": {
   "hash": "98590ff4fe04c8543246b2a01debd3de3c5ca9b666f43f1fa87d5110c692004c"
  },
  "kernelspec": {
   "display_name": "Python 3.10.1 64-bit",
   "language": "python",
   "name": "python3"
  },
  "language_info": {
   "codemirror_mode": {
    "name": "ipython",
    "version": 3
   },
   "file_extension": ".py",
   "mimetype": "text/x-python",
   "name": "python",
   "nbconvert_exporter": "python",
   "pygments_lexer": "ipython3",
   "version": "3.10.1"
  },
  "orig_nbformat": 4
 },
 "nbformat": 4,
 "nbformat_minor": 2
}
