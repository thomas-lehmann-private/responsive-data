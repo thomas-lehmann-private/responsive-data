{
 "cells": [
  {
   "cell_type": "markdown",
   "metadata": {},
   "source": [
    "# Using the responsive data library"
   ]
  },
  {
   "cell_type": "code",
   "execution_count": 1,
   "metadata": {},
   "outputs": [],
   "source": [
    "import sys\n",
    "sys.path.append('../..')"
   ]
  },
  {
   "cell_type": "markdown",
   "metadata": {},
   "source": [
    "Consider following data classes"
   ]
  },
  {
   "cell_type": "code",
   "execution_count": 2,
   "metadata": {},
   "outputs": [],
   "source": [
    "class Author:\n",
    "    def __init__(self, name=\"\"):\n",
    "        \"\"\" Initialize author name with empty name.\"\"\"\n",
    "        self.name = name\n",
    "\n",
    "    def __repr__(self):\n",
    "        \"\"\"String representation of an instance of this class.\"\"\"\n",
    "        return f\"Author(name={self.name})\"\n",
    "\n",
    "class Book:\n",
    "    def __init__(self, title=\"\", author=Author()):\n",
    "        \"\"\"Initialize book with empty title and author with empty name.\"\"\"\n",
    "        self.title = title\n",
    "        self.author = author\n",
    "\n",
    "    def __repr__(self):\n",
    "        \"\"\"String representation of an instance of this class.\"\"\"\n",
    "        return f\"Book(title={self.title}, author={self.author})\"\n"
   ]
  },
  {
   "cell_type": "markdown",
   "metadata": {},
   "source": [
    "Now we intend to make the instance of a book (and its fields - in depth - responsive):"
   ]
  },
  {
   "cell_type": "code",
   "execution_count": 3,
   "metadata": {},
   "outputs": [
    {
     "name": "stdout",
     "output_type": "stream",
     "text": [
      "Book(title=The Big Sleep, author=Author(name=Raymond Chandler)) () {'attribute_name': 'title', 'old_value': '', 'new_value': 'The Big Sleep'}\n",
      "Book(title=The Big Sleep, author=Author(name=Raymond Chandler)) () {'attribute_name': 'name', 'old_value': '', 'new_value': 'Raymond Chandler'}\n"
     ]
    }
   ],
   "source": [
    "from responsive.data import make_responsive\n",
    "from responsive.observer import DefaultObserver\n",
    "\n",
    "observer = DefaultObserver()\n",
    "book = make_responsive(Book())\n",
    "book.add_observer(observer)\n",
    "\n",
    "book.title = \"The Big Sleep\"\n",
    "book.author.name = \"Raymond Chandler\"\n",
    "\n",
    "for subject, args, kwargs in observer:\n",
    "    print(subject, args, kwargs)\n"
   ]
  },
  {
   "cell_type": "markdown",
   "metadata": {},
   "source": [
    "**Please note**: the output of the subject (here the book) has same output because of the print which finally calls the `__repr__` method on the same reference which does not change after the notifactions are done. It would be too expensive (and complicated) to make a deep copy of the subject on each notification. The **DefaultObserver** is just a test oberserver; in reality it is expected that an observer does react directly on a given notification."
   ]
  }
 ],
 "metadata": {
  "interpreter": {
   "hash": "98590ff4fe04c8543246b2a01debd3de3c5ca9b666f43f1fa87d5110c692004c"
  },
  "kernelspec": {
   "display_name": "Python 3.10.1 64-bit",
   "language": "python",
   "name": "python3"
  },
  "language_info": {
   "codemirror_mode": {
    "name": "ipython",
    "version": 3
   },
   "file_extension": ".py",
   "mimetype": "text/x-python",
   "name": "python",
   "nbconvert_exporter": "python",
   "pygments_lexer": "ipython3",
   "version": "3.10.1"
  },
  "orig_nbformat": 4
 },
 "nbformat": 4,
 "nbformat_minor": 2
}
