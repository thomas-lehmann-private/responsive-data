{
 "cells": [
  {
   "cell_type": "markdown",
   "metadata": {},
   "source": [
    "# Using the responsive data library"
   ]
  },
  {
   "cell_type": "code",
   "execution_count": 4,
   "metadata": {},
   "outputs": [],
   "source": [
    "import sys\n",
    "sys.path.append('../..')"
   ]
  },
  {
   "cell_type": "markdown",
   "metadata": {},
   "source": [
    "Consider following data classes"
   ]
  },
  {
   "cell_type": "code",
   "execution_count": 5,
   "metadata": {},
   "outputs": [],
   "source": [
    "class Author:\n",
    "    def __init__(self):\n",
    "        \"\"\" Initialize author name with empty name.\"\"\"\n",
    "        self.name = \"\"\n",
    "\n",
    "class Book:\n",
    "    def __init__(self):\n",
    "        \"\"\"Initialize book with empty title and author with empty name.\"\"\"\n",
    "        self.title = \"\"\n",
    "        self.author = Author()"
   ]
  },
  {
   "cell_type": "markdown",
   "metadata": {},
   "source": [
    "Now we intend to make the instance of a book (and its fields - in depth - responsive):"
   ]
  },
  {
   "cell_type": "code",
   "execution_count": 6,
   "metadata": {},
   "outputs": [
    {
     "name": "stdout",
     "output_type": "stream",
     "text": [
      "<responsive.data.Wrapper object at 0x106b10b50> (<responsive.data.Wrapper object at 0x106b120e0>,) {'attribute_name': 'title', 'old_value': '', 'new_value': 'The Big Sleep'}\n",
      "<responsive.data.Wrapper object at 0x106b10b50> (<responsive.data.Wrapper object at 0x106b111b0>,) {'attribute_name': 'name', 'old_value': '', 'new_value': 'Raymond Chandler'}\n"
     ]
    }
   ],
   "source": [
    "from responsive.data import make_responsive\n",
    "from responsive.observer import DefaultObserver\n",
    "\n",
    "observer = DefaultObserver()\n",
    "book = make_responsive(Book())\n",
    "book.add_observer(observer)\n",
    "\n",
    "book.title = \"The Big Sleep\"\n",
    "book.author.name = \"Raymond Chandler\"\n",
    "\n",
    "for subject, args, kwargs in observer:\n",
    "    print(subject, args, kwargs)\n"
   ]
  }
 ],
 "metadata": {
  "interpreter": {
   "hash": "98590ff4fe04c8543246b2a01debd3de3c5ca9b666f43f1fa87d5110c692004c"
  },
  "kernelspec": {
   "display_name": "Python 3.10.1 64-bit",
   "language": "python",
   "name": "python3"
  },
  "language_info": {
   "codemirror_mode": {
    "name": "ipython",
    "version": 3
   },
   "file_extension": ".py",
   "mimetype": "text/x-python",
   "name": "python",
   "nbconvert_exporter": "python",
   "pygments_lexer": "ipython3",
   "version": "3.10.1"
  },
  "orig_nbformat": 4
 },
 "nbformat": 4,
 "nbformat_minor": 2
}
